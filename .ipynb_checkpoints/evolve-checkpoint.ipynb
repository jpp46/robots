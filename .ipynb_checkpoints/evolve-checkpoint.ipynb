{
 "cells": [
  {
   "cell_type": "code",
   "execution_count": null,
   "metadata": {},
   "outputs": [],
   "source": [
    "from robot import *\n",
    "from tqdm import tqdm\n",
    "import pyrosim\n",
    "import numpy as np\n",
    "\n",
    "np.random.seed(9)\n",
    "\n",
    "G = 500\n",
    "MRATE = 0.01\n",
    "POP_SIZE = 50\n",
    "EVAL_TIME = 1000\n",
    "\n",
    "def init():\n",
    "    return np.random.randn(POP_SIZE, 5, 8)\n",
    "\n",
    "def mutate(population):\n",
    "    return np.random.randn(POP_SIZE, 5, 8) * MRATE + population\n",
    "\n",
    "def evaluate(population):\n",
    "    sims = []\n",
    "    sensors = []\n",
    "    fits = []\n",
    "    for i in range(0, POP_SIZE, 5):\n",
    "        for j in range(i, i+5):\n",
    "            sims.append(\n",
    "                pyrosim.Simulator(eval_time=EVAL_TIME, play_blind=True)\n",
    "            )\n",
    "            sensors.append(\n",
    "                make_robot(sims[j], population[j])\n",
    "            )\n",
    "            run(sims[j])\n",
    "\n",
    "        for j in range(i, i+5):\n",
    "            fits.append(\n",
    "                fitness(sims[j], sensors[j])\n",
    "            )\n",
    "    return fits\n",
    "\n",
    "def survival_of_fitest(parents, p_fits, children, c_fits):\n",
    "    fitest = np.zeros((POP_SIZE, 5, 8))\n",
    "    for i in range(POP_SIZE):\n",
    "        if p_fits[i] >= c_fits[i]:\n",
    "            fitest[i] = parents[i]\n",
    "        else:\n",
    "            fitest[i] = children[i]\n",
    "    return fitest\n",
    "    \n",
    "\n",
    "\n",
    "parents = init()\n",
    "p_fits = evaluate(parents)\n",
    "\n",
    "for g in tqdm(range(G)):\n",
    "    children = mutate(parents)\n",
    "    c_fits = evaluate(children)\n",
    "    \n",
    "    parents = survival_of_fitest(parents, p_fits, children, c_fits)\n",
    "    p_fits = evaluate(parents) "
   ]
  },
  {
   "cell_type": "code",
   "execution_count": null,
   "metadata": {},
   "outputs": [],
   "source": [
    "idx = np.argmax(p_fits)\n",
    "best_indv = parents[idx]\n",
    "\n",
    "sim = pyrosim.Simulator(eval_time=EVAL_TIME, play_blind=False, play_paused=True)\n",
    "sensor = make_robot(sim, best_indv)\n",
    "run(sim)\n",
    "print(fitness(sim, sensor))"
   ]
  },
  {
   "cell_type": "code",
   "execution_count": null,
   "metadata": {},
   "outputs": [],
   "source": []
  }
 ],
 "metadata": {
  "kernelspec": {
   "display_name": "Python 3",
   "language": "python",
   "name": "python3"
  },
  "language_info": {
   "codemirror_mode": {
    "name": "ipython",
    "version": 3
   },
   "file_extension": ".py",
   "mimetype": "text/x-python",
   "name": "python",
   "nbconvert_exporter": "python",
   "pygments_lexer": "ipython3",
   "version": "3.8.5"
  }
 },
 "nbformat": 4,
 "nbformat_minor": 4
}
