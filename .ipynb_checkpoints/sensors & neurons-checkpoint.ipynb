{
 "cells": [
  {
   "cell_type": "code",
   "execution_count": null,
   "metadata": {},
   "outputs": [],
   "source": [
    "import math\n",
    "import numpy as np\n",
    "import pyrosim\n",
    "\n",
    "HEIGHT = 0.3\n",
    "RADIUS = 0.05\n",
    "\n",
    "seconds = 10.0\n",
    "dt = 0.05\n",
    "eval_time = int(seconds/dt)\n",
    "gravity = -1.0\n",
    "\n",
    "sim = pyrosim.Simulator(eval_time=eval_time, dt=dt, gravity=gravity,\n",
    "                        debug=True, play_paused=True,\n",
    "                        play_blind=False, use_textures=True)"
   ]
  },
  {
   "cell_type": "code",
   "execution_count": null,
   "metadata": {},
   "outputs": [],
   "source": [
    "main_body = sim.send_box(x=0, y=0, z=HEIGHT+RADIUS,\n",
    "                         length=HEIGHT, width=HEIGHT,\n",
    "                         height=RADIUS*2.0, mass=1)\n",
    "light_sensor = sim.send_light_sensor(body_id=main_body)\n",
    "\n",
    "# id arrays\n",
    "thighs = [0]*4\n",
    "shins = [0]*4\n",
    "hips = [0]*4\n",
    "knees = [0]*4\n",
    "foot_sensors = [0]*4\n",
    "sensor_neurons = [0]*5\n",
    "motor_neurons = [0]*8\n",
    "\n",
    "delta = float(math.pi)/2.0\n",
    "\n",
    "# quadruped is a box with one leg on each side\n",
    "# each leg consists thigh and shin cylinders\n",
    "# with hip and knee joints\n",
    "# each shin/foot then has a touch sensor\n",
    "for i in range(4):\n",
    "    theta = delta*i\n",
    "    x_pos = math.cos(theta)*HEIGHT\n",
    "    y_pos = math.sin(theta)*HEIGHT\n",
    "\n",
    "    thighs[i] = sim.send_cylinder(x=x_pos, y=y_pos, z=HEIGHT+RADIUS,\n",
    "                                  r1=x_pos, r2=y_pos, r3=0,\n",
    "                                  length=HEIGHT, radius=RADIUS, capped=True\n",
    "                                  )\n",
    "\n",
    "    hips[i] = sim.send_hinge_joint(main_body, thighs[i],\n",
    "                                   x=x_pos/2.0, y=y_pos/2.0, z=HEIGHT+RADIUS,\n",
    "                                   n1=-y_pos, n2=x_pos, n3=0,\n",
    "                                   lo=-math.pi/4.0, hi=math.pi/4.0,\n",
    "                                   speed=1.0)\n",
    "\n",
    "    x_pos2 = math.cos(theta)*1.5*HEIGHT\n",
    "    y_pos2 = math.sin(theta)*1.5*HEIGHT\n",
    "\n",
    "    shins[i] = sim.send_cylinder(x=x_pos2, y=y_pos2, z=(HEIGHT+RADIUS)/2.0,\n",
    "                                 r1=0, r2=0, r3=1,\n",
    "                                 length=HEIGHT, radius=RADIUS,\n",
    "                                 mass=1., capped=True)\n",
    "\n",
    "    knees[i] = sim.send_hinge_joint(thighs[i], shins[i],\n",
    "                                    x=x_pos2, y=y_pos2, z=HEIGHT+RADIUS,\n",
    "                                    n1=-y_pos, n2=x_pos, n3=0,\n",
    "                                    lo=-math.pi/4.0, hi=math.pi/4.0)\n",
    "\n",
    "    foot_sensors[i] = sim.send_touch_sensor(shins[i])\n",
    "    sensor_neurons[i] = sim.send_sensor_neuron(foot_sensors[i])\n",
    "    \n",
    "    motor_neurons[i] = sim.send_motor_neuron(hips[i])\n",
    "    motor_neurons[i+4] = sim.send_motor_neuron(knees[i])\n",
    "\n",
    "\n",
    "sensor_neurons[-1] = sim.send_sensor_neuron(light_sensor)\n",
    "for source_id in sensor_neurons:\n",
    "    for target_id in motor_neurons:\n",
    "        sim.send_synapse(source_id, target_id, np.random.randn())\n",
    "        \n",
    "\n",
    "env_box = sim.send_box(x=0, y=HEIGHT*30, z=HEIGHT/2.0,\n",
    "                           length=HEIGHT, width=HEIGHT, height=HEIGHT)\n",
    "sim.send_light_source(env_box)"
   ]
  },
  {
   "cell_type": "code",
   "execution_count": null,
   "metadata": {},
   "outputs": [],
   "source": [
    "sim.start()\n",
    "sim.wait_to_finish()"
   ]
  },
  {
   "cell_type": "code",
   "execution_count": null,
   "metadata": {},
   "outputs": [],
   "source": [
    "pos_x_data = sim.get_sensor_data(pos_sensor, svi=0)\n",
    "pos_y_data = sim.get_sensor_data(pos_sensor, svi=1)\n",
    "pos_z_data = sim.get_sensor_data(pos_sensor, svi=2)\n",
    "touch_data = sim.get_sensor_data(foot_sensors[0])"
   ]
  },
  {
   "cell_type": "code",
   "execution_count": null,
   "metadata": {},
   "outputs": [],
   "source": [
    "for (x, y, z) in zip(pos_x_data, pos_y_data, pos_z_data):\n",
    "    print(x, \", \", y, \", \", z)"
   ]
  },
  {
   "cell_type": "code",
   "execution_count": null,
   "metadata": {},
   "outputs": [],
   "source": [
    "print(touch_data)"
   ]
  },
  {
   "cell_type": "code",
   "execution_count": null,
   "metadata": {},
   "outputs": [],
   "source": []
  }
 ],
 "metadata": {
  "kernelspec": {
   "display_name": "Python 3",
   "language": "python",
   "name": "python3"
  },
  "language_info": {
   "codemirror_mode": {
    "name": "ipython",
    "version": 3
   },
   "file_extension": ".py",
   "mimetype": "text/x-python",
   "name": "python",
   "nbconvert_exporter": "python",
   "pygments_lexer": "ipython3",
   "version": "3.8.5"
  }
 },
 "nbformat": 4,
 "nbformat_minor": 4
}
