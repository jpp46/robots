{
 "cells": [
  {
   "cell_type": "code",
   "execution_count": null,
   "metadata": {},
   "outputs": [],
   "source": [
    "import pyrosim\n",
    "\n",
    "#creates simulator object\n",
    "sim = pyrosim.Simulator()\n",
    "\n",
    "#starts simulation\n",
    "sim.start()"
   ]
  },
  {
   "cell_type": "code",
   "execution_count": null,
   "metadata": {},
   "outputs": [],
   "source": [
    "sim = pyrosim.Simulator(play_paused=True)\n",
    "\n",
    "sim.send_cylinder(x=-1)\n",
    "sim.send_box(x=0)\n",
    "sim.send_sphere(x=1)\n",
    "\n",
    "sim.start()"
   ]
  },
  {
   "cell_type": "code",
   "execution_count": null,
   "metadata": {},
   "outputs": [],
   "source": [
    "sim = pyrosim.Simulator(play_paused=True)\n",
    "\n",
    "id0 = sim.send_cylinder(length=0.2, radius=0.02,\n",
    "                        x=-1, y=0, z=1+0.12,\n",
    "                       r1=0, r2=1, r3=0)\n",
    "id1 = sim.send_box(length=0.1, width=0.1, height=0.2,\n",
    "                   x=0, y=0, z=1+0.1)\n",
    "id2 = sim.send_sphere(x=1, y=0, z=1+0.1)\n",
    "\n",
    "sim.start()\n",
    "\n",
    "print(id0)\n",
    "print(id1)\n",
    "print(id2)"
   ]
  },
  {
   "cell_type": "code",
   "execution_count": null,
   "metadata": {},
   "outputs": [],
   "source": []
  }
 ],
 "metadata": {
  "kernelspec": {
   "display_name": "Python 3",
   "language": "python",
   "name": "python3"
  },
  "language_info": {
   "codemirror_mode": {
    "name": "ipython",
    "version": 3
   },
   "file_extension": ".py",
   "mimetype": "text/x-python",
   "name": "python",
   "nbconvert_exporter": "python",
   "pygments_lexer": "ipython3",
   "version": "3.8.5"
  }
 },
 "nbformat": 4,
 "nbformat_minor": 4
}
