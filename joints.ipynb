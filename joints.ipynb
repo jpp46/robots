{
 "cells": [
  {
   "cell_type": "code",
   "execution_count": null,
   "metadata": {},
   "outputs": [],
   "source": [
    "import pyrosim\n",
    "import math\n",
    "\n",
    "sim = pyrosim.Simulator(play_paused=True, debug=True, use_textures=True,\n",
    "                        xyz=[3.0, -2.0, 2.5], hpr=[150.0, -25.0, 0.0],\n",
    "                        eval_time=600)"
   ]
  },
  {
   "cell_type": "code",
   "execution_count": null,
   "metadata": {},
   "outputs": [],
   "source": [
    "# cylinders start with long axis along the (r1,r2,r3) axis\n",
    "# r1=1,r2=0, r3=0 means it is starting pointed along the x-axis\n",
    "cyl_1 = sim.send_cylinder(x=-0.25, y=0.0, z=2.0,\n",
    "                          r1=1, r2=0, r3=0,\n",
    "                          length=0.5, radius=0.07)\n",
    "cyl_2 = sim.send_cylinder(x=-0.75, y=0.0, z=2.0,\n",
    "                          r1=1, r2=0, r3=0,\n",
    "                          length=0.5, radius=0.07)\n",
    "\n",
    "box = sim.send_box(x=-1.0, y=0.0, z=2.0,\n",
    "                   width=0.5, length=0.5, height=0.5,\n",
    "                   mass=10.0)"
   ]
  },
  {
   "cell_type": "code",
   "execution_count": null,
   "metadata": {},
   "outputs": [],
   "source": [
    "# hinge connects body to the world\n",
    "# (x,y,z) refers to the anchor position\n",
    "# (n1,n2,n3) refers to the joint axis\n",
    "world_joint = sim.send_hinge_joint(first_body_id=pyrosim.Simulator.WORLD,\n",
    "                                   second_body_id=cyl_1,\n",
    "                                   x=0.0, y=0.0, z=2.0,\n",
    "                                   n1=0, n2=1, n3=0,\n",
    "                                   lo=-math.pi, hi=math.pi)\n",
    "\n",
    "# hinge connects cylinders together\n",
    "hinge_joint = sim.send_hinge_joint(first_body_id=cyl_1,\n",
    "                                   second_body_id=cyl_2,\n",
    "                                   x=-0.5, y=0.0, z=2.0,\n",
    "                                   n1=0, n2=1, n3=0,\n",
    "                                   lo=-math.pi, hi=math.pi)\n",
    "\n",
    "# slider joint joins second cylinder and box.\n",
    "# Contrary to the hinge joint, the parameters\n",
    "# (x,y,z) refer to the joint axis in the case\n",
    "# of the slider joint.\n",
    "slider_joint = sim.send_slider_joint(first_body_id=cyl_2,\n",
    "                                     second_body_id=box,\n",
    "                                     x=1.0, y=0.0, z=0.0,\n",
    "                                     lo=-0.5, hi=0.5)"
   ]
  },
  {
   "cell_type": "code",
   "execution_count": null,
   "metadata": {},
   "outputs": [],
   "source": [
    "sim.start()\n",
    "sim.wait_to_finish()"
   ]
  },
  {
   "cell_type": "code",
   "execution_count": null,
   "metadata": {},
   "outputs": [],
   "source": []
  }
 ],
 "metadata": {
  "kernelspec": {
   "display_name": "Python 3",
   "language": "python",
   "name": "python3"
  },
  "language_info": {
   "codemirror_mode": {
    "name": "ipython",
    "version": 3
   },
   "file_extension": ".py",
   "mimetype": "text/x-python",
   "name": "python",
   "nbconvert_exporter": "python",
   "pygments_lexer": "ipython3",
   "version": "3.8.5"
  }
 },
 "nbformat": 4,
 "nbformat_minor": 4
}
